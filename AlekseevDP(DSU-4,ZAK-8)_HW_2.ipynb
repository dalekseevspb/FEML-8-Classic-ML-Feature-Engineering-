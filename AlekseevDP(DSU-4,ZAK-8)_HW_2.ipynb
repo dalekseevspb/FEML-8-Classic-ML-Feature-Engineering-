{
 "cells": [
  {
   "cell_type": "code",
   "execution_count": 1,
   "id": "b209837c",
   "metadata": {},
   "outputs": [],
   "source": [
    "# Алексеев Д.П. (DSU-4,ZAK-8)\n",
    "# Домашнее задание к лекции «Методология ведения DS-проектов» (#2).\n",
    "\n",
    "# Задание:\n",
    "# Возьмите задачу с винами (https://www.kaggle.com/datasets/rajyellow46/wine-quality) \n",
    "# и решите ее, оформив в виде CrispDM-подхода. "
   ]
  },
  {
   "cell_type": "code",
   "execution_count": 2,
   "id": "8c4dad51",
   "metadata": {},
   "outputs": [],
   "source": [
    "import pandas as pd\n",
    "import numpy as np\n",
    "import matplotlib.pyplot as plt\n",
    "import seaborn as sns"
   ]
  },
  {
   "cell_type": "code",
   "execution_count": 3,
   "id": "c97cd7d8",
   "metadata": {},
   "outputs": [
    {
     "data": {
      "text/html": [
       "<div>\n",
       "<style scoped>\n",
       "    .dataframe tbody tr th:only-of-type {\n",
       "        vertical-align: middle;\n",
       "    }\n",
       "\n",
       "    .dataframe tbody tr th {\n",
       "        vertical-align: top;\n",
       "    }\n",
       "\n",
       "    .dataframe thead th {\n",
       "        text-align: right;\n",
       "    }\n",
       "</style>\n",
       "<table border=\"1\" class=\"dataframe\">\n",
       "  <thead>\n",
       "    <tr style=\"text-align: right;\">\n",
       "      <th></th>\n",
       "      <th>type</th>\n",
       "      <th>fixed acidity</th>\n",
       "      <th>volatile acidity</th>\n",
       "      <th>citric acid</th>\n",
       "      <th>residual sugar</th>\n",
       "      <th>chlorides</th>\n",
       "      <th>free sulfur dioxide</th>\n",
       "      <th>total sulfur dioxide</th>\n",
       "      <th>density</th>\n",
       "      <th>pH</th>\n",
       "      <th>sulphates</th>\n",
       "      <th>alcohol</th>\n",
       "      <th>quality</th>\n",
       "    </tr>\n",
       "  </thead>\n",
       "  <tbody>\n",
       "    <tr>\n",
       "      <th>0</th>\n",
       "      <td>white</td>\n",
       "      <td>7.0</td>\n",
       "      <td>0.27</td>\n",
       "      <td>0.36</td>\n",
       "      <td>20.7</td>\n",
       "      <td>0.045</td>\n",
       "      <td>45.0</td>\n",
       "      <td>170.0</td>\n",
       "      <td>1.0010</td>\n",
       "      <td>3.00</td>\n",
       "      <td>0.45</td>\n",
       "      <td>8.8</td>\n",
       "      <td>6</td>\n",
       "    </tr>\n",
       "    <tr>\n",
       "      <th>1</th>\n",
       "      <td>white</td>\n",
       "      <td>6.3</td>\n",
       "      <td>0.30</td>\n",
       "      <td>0.34</td>\n",
       "      <td>1.6</td>\n",
       "      <td>0.049</td>\n",
       "      <td>14.0</td>\n",
       "      <td>132.0</td>\n",
       "      <td>0.9940</td>\n",
       "      <td>3.30</td>\n",
       "      <td>0.49</td>\n",
       "      <td>9.5</td>\n",
       "      <td>6</td>\n",
       "    </tr>\n",
       "    <tr>\n",
       "      <th>2</th>\n",
       "      <td>white</td>\n",
       "      <td>8.1</td>\n",
       "      <td>0.28</td>\n",
       "      <td>0.40</td>\n",
       "      <td>6.9</td>\n",
       "      <td>0.050</td>\n",
       "      <td>30.0</td>\n",
       "      <td>97.0</td>\n",
       "      <td>0.9951</td>\n",
       "      <td>3.26</td>\n",
       "      <td>0.44</td>\n",
       "      <td>10.1</td>\n",
       "      <td>6</td>\n",
       "    </tr>\n",
       "    <tr>\n",
       "      <th>3</th>\n",
       "      <td>white</td>\n",
       "      <td>7.2</td>\n",
       "      <td>0.23</td>\n",
       "      <td>0.32</td>\n",
       "      <td>8.5</td>\n",
       "      <td>0.058</td>\n",
       "      <td>47.0</td>\n",
       "      <td>186.0</td>\n",
       "      <td>0.9956</td>\n",
       "      <td>3.19</td>\n",
       "      <td>0.40</td>\n",
       "      <td>9.9</td>\n",
       "      <td>6</td>\n",
       "    </tr>\n",
       "    <tr>\n",
       "      <th>4</th>\n",
       "      <td>white</td>\n",
       "      <td>7.2</td>\n",
       "      <td>0.23</td>\n",
       "      <td>0.32</td>\n",
       "      <td>8.5</td>\n",
       "      <td>0.058</td>\n",
       "      <td>47.0</td>\n",
       "      <td>186.0</td>\n",
       "      <td>0.9956</td>\n",
       "      <td>3.19</td>\n",
       "      <td>0.40</td>\n",
       "      <td>9.9</td>\n",
       "      <td>6</td>\n",
       "    </tr>\n",
       "  </tbody>\n",
       "</table>\n",
       "</div>"
      ],
      "text/plain": [
       "    type  fixed acidity  volatile acidity  citric acid  residual sugar  \\\n",
       "0  white            7.0              0.27         0.36            20.7   \n",
       "1  white            6.3              0.30         0.34             1.6   \n",
       "2  white            8.1              0.28         0.40             6.9   \n",
       "3  white            7.2              0.23         0.32             8.5   \n",
       "4  white            7.2              0.23         0.32             8.5   \n",
       "\n",
       "   chlorides  free sulfur dioxide  total sulfur dioxide  density    pH  \\\n",
       "0      0.045                 45.0                 170.0   1.0010  3.00   \n",
       "1      0.049                 14.0                 132.0   0.9940  3.30   \n",
       "2      0.050                 30.0                  97.0   0.9951  3.26   \n",
       "3      0.058                 47.0                 186.0   0.9956  3.19   \n",
       "4      0.058                 47.0                 186.0   0.9956  3.19   \n",
       "\n",
       "   sulphates  alcohol  quality  \n",
       "0       0.45      8.8        6  \n",
       "1       0.49      9.5        6  \n",
       "2       0.44     10.1        6  \n",
       "3       0.40      9.9        6  \n",
       "4       0.40      9.9        6  "
      ]
     },
     "execution_count": 3,
     "metadata": {},
     "output_type": "execute_result"
    }
   ],
   "source": [
    "# загрузим датасет\n",
    "data = pd.read_csv('E:\\\\Netology\\\\Работа с заказчиком\\\\Practice\\\\winequalityN.csv')\n",
    "data.head()"
   ]
  },
  {
   "cell_type": "markdown",
   "id": "3ad3c730",
   "metadata": {},
   "source": [
    "Этап 1. Business Understanding."
   ]
  },
  {
   "cell_type": "markdown",
   "id": "e0226f86",
   "metadata": {},
   "source": [
    "Для понимания задачи и описания предметной области возьмем описание датасета из Kaggle:\n",
    "\n",
    "\"Данные были загружены из репозитория машинного обучения UCI.\n",
    "\n",
    "Два набора данных относятся к красному и белому вариантам португальского вина «Vinho Verde». \n",
    "Из соображений конфиденциальности доступны только физико-химические (входные) и \n",
    "органолептические (выходные) переменные (например, нет данных о сортах винограда, марке вина, продажной цене вина и т.д.)\n",
    "\n",
    "Эти наборы данных можно рассматривать как задачи классификации или регрессии. \n",
    "Классы упорядочены и не сбалансированы (например, нормальных вин гораздо больше, чем отличных или плохих). \n",
    "Алгоритмы обнаружения выбросов можно использовать для определения нескольких отличных или плохих вин.\""
   ]
  },
  {
   "cell_type": "markdown",
   "id": "71d5cf1b",
   "metadata": {},
   "source": [
    "Из описания датасета и перечня полей можно сделать вывод, что в задаче необходимо предсказать целевую переменную - качество вина в баллах(quality)."
   ]
  },
  {
   "cell_type": "markdown",
   "id": "4de5b9c9",
   "metadata": {},
   "source": [
    "Этап 2. Data Understanding."
   ]
  },
  {
   "cell_type": "code",
   "execution_count": 4,
   "id": "f245875b",
   "metadata": {},
   "outputs": [
    {
     "data": {
      "text/html": [
       "<div>\n",
       "<style scoped>\n",
       "    .dataframe tbody tr th:only-of-type {\n",
       "        vertical-align: middle;\n",
       "    }\n",
       "\n",
       "    .dataframe tbody tr th {\n",
       "        vertical-align: top;\n",
       "    }\n",
       "\n",
       "    .dataframe thead th {\n",
       "        text-align: right;\n",
       "    }\n",
       "</style>\n",
       "<table border=\"1\" class=\"dataframe\">\n",
       "  <thead>\n",
       "    <tr style=\"text-align: right;\">\n",
       "      <th></th>\n",
       "      <th>fixed acidity</th>\n",
       "      <th>volatile acidity</th>\n",
       "      <th>citric acid</th>\n",
       "      <th>residual sugar</th>\n",
       "      <th>chlorides</th>\n",
       "      <th>free sulfur dioxide</th>\n",
       "      <th>total sulfur dioxide</th>\n",
       "      <th>density</th>\n",
       "      <th>pH</th>\n",
       "      <th>sulphates</th>\n",
       "      <th>alcohol</th>\n",
       "      <th>quality</th>\n",
       "    </tr>\n",
       "  </thead>\n",
       "  <tbody>\n",
       "    <tr>\n",
       "      <th>count</th>\n",
       "      <td>6487.000000</td>\n",
       "      <td>6489.000000</td>\n",
       "      <td>6494.000000</td>\n",
       "      <td>6495.000000</td>\n",
       "      <td>6495.000000</td>\n",
       "      <td>6497.000000</td>\n",
       "      <td>6497.000000</td>\n",
       "      <td>6497.000000</td>\n",
       "      <td>6488.000000</td>\n",
       "      <td>6493.000000</td>\n",
       "      <td>6497.000000</td>\n",
       "      <td>6497.000000</td>\n",
       "    </tr>\n",
       "    <tr>\n",
       "      <th>mean</th>\n",
       "      <td>7.216579</td>\n",
       "      <td>0.339691</td>\n",
       "      <td>0.318722</td>\n",
       "      <td>5.444326</td>\n",
       "      <td>0.056042</td>\n",
       "      <td>30.525319</td>\n",
       "      <td>115.744574</td>\n",
       "      <td>0.994697</td>\n",
       "      <td>3.218395</td>\n",
       "      <td>0.531215</td>\n",
       "      <td>10.491801</td>\n",
       "      <td>5.818378</td>\n",
       "    </tr>\n",
       "    <tr>\n",
       "      <th>std</th>\n",
       "      <td>1.296750</td>\n",
       "      <td>0.164649</td>\n",
       "      <td>0.145265</td>\n",
       "      <td>4.758125</td>\n",
       "      <td>0.035036</td>\n",
       "      <td>17.749400</td>\n",
       "      <td>56.521855</td>\n",
       "      <td>0.002999</td>\n",
       "      <td>0.160748</td>\n",
       "      <td>0.148814</td>\n",
       "      <td>1.192712</td>\n",
       "      <td>0.873255</td>\n",
       "    </tr>\n",
       "    <tr>\n",
       "      <th>min</th>\n",
       "      <td>3.800000</td>\n",
       "      <td>0.080000</td>\n",
       "      <td>0.000000</td>\n",
       "      <td>0.600000</td>\n",
       "      <td>0.009000</td>\n",
       "      <td>1.000000</td>\n",
       "      <td>6.000000</td>\n",
       "      <td>0.987110</td>\n",
       "      <td>2.720000</td>\n",
       "      <td>0.220000</td>\n",
       "      <td>8.000000</td>\n",
       "      <td>3.000000</td>\n",
       "    </tr>\n",
       "    <tr>\n",
       "      <th>25%</th>\n",
       "      <td>6.400000</td>\n",
       "      <td>0.230000</td>\n",
       "      <td>0.250000</td>\n",
       "      <td>1.800000</td>\n",
       "      <td>0.038000</td>\n",
       "      <td>17.000000</td>\n",
       "      <td>77.000000</td>\n",
       "      <td>0.992340</td>\n",
       "      <td>3.110000</td>\n",
       "      <td>0.430000</td>\n",
       "      <td>9.500000</td>\n",
       "      <td>5.000000</td>\n",
       "    </tr>\n",
       "    <tr>\n",
       "      <th>50%</th>\n",
       "      <td>7.000000</td>\n",
       "      <td>0.290000</td>\n",
       "      <td>0.310000</td>\n",
       "      <td>3.000000</td>\n",
       "      <td>0.047000</td>\n",
       "      <td>29.000000</td>\n",
       "      <td>118.000000</td>\n",
       "      <td>0.994890</td>\n",
       "      <td>3.210000</td>\n",
       "      <td>0.510000</td>\n",
       "      <td>10.300000</td>\n",
       "      <td>6.000000</td>\n",
       "    </tr>\n",
       "    <tr>\n",
       "      <th>75%</th>\n",
       "      <td>7.700000</td>\n",
       "      <td>0.400000</td>\n",
       "      <td>0.390000</td>\n",
       "      <td>8.100000</td>\n",
       "      <td>0.065000</td>\n",
       "      <td>41.000000</td>\n",
       "      <td>156.000000</td>\n",
       "      <td>0.996990</td>\n",
       "      <td>3.320000</td>\n",
       "      <td>0.600000</td>\n",
       "      <td>11.300000</td>\n",
       "      <td>6.000000</td>\n",
       "    </tr>\n",
       "    <tr>\n",
       "      <th>max</th>\n",
       "      <td>15.900000</td>\n",
       "      <td>1.580000</td>\n",
       "      <td>1.660000</td>\n",
       "      <td>65.800000</td>\n",
       "      <td>0.611000</td>\n",
       "      <td>289.000000</td>\n",
       "      <td>440.000000</td>\n",
       "      <td>1.038980</td>\n",
       "      <td>4.010000</td>\n",
       "      <td>2.000000</td>\n",
       "      <td>14.900000</td>\n",
       "      <td>9.000000</td>\n",
       "    </tr>\n",
       "  </tbody>\n",
       "</table>\n",
       "</div>"
      ],
      "text/plain": [
       "       fixed acidity  volatile acidity  citric acid  residual sugar  \\\n",
       "count    6487.000000       6489.000000  6494.000000     6495.000000   \n",
       "mean        7.216579          0.339691     0.318722        5.444326   \n",
       "std         1.296750          0.164649     0.145265        4.758125   \n",
       "min         3.800000          0.080000     0.000000        0.600000   \n",
       "25%         6.400000          0.230000     0.250000        1.800000   \n",
       "50%         7.000000          0.290000     0.310000        3.000000   \n",
       "75%         7.700000          0.400000     0.390000        8.100000   \n",
       "max        15.900000          1.580000     1.660000       65.800000   \n",
       "\n",
       "         chlorides  free sulfur dioxide  total sulfur dioxide      density  \\\n",
       "count  6495.000000          6497.000000           6497.000000  6497.000000   \n",
       "mean      0.056042            30.525319            115.744574     0.994697   \n",
       "std       0.035036            17.749400             56.521855     0.002999   \n",
       "min       0.009000             1.000000              6.000000     0.987110   \n",
       "25%       0.038000            17.000000             77.000000     0.992340   \n",
       "50%       0.047000            29.000000            118.000000     0.994890   \n",
       "75%       0.065000            41.000000            156.000000     0.996990   \n",
       "max       0.611000           289.000000            440.000000     1.038980   \n",
       "\n",
       "                pH    sulphates      alcohol      quality  \n",
       "count  6488.000000  6493.000000  6497.000000  6497.000000  \n",
       "mean      3.218395     0.531215    10.491801     5.818378  \n",
       "std       0.160748     0.148814     1.192712     0.873255  \n",
       "min       2.720000     0.220000     8.000000     3.000000  \n",
       "25%       3.110000     0.430000     9.500000     5.000000  \n",
       "50%       3.210000     0.510000    10.300000     6.000000  \n",
       "75%       3.320000     0.600000    11.300000     6.000000  \n",
       "max       4.010000     2.000000    14.900000     9.000000  "
      ]
     },
     "execution_count": 4,
     "metadata": {},
     "output_type": "execute_result"
    }
   ],
   "source": [
    "# Выведем общую статистику\n",
    "data.describe()"
   ]
  },
  {
   "cell_type": "code",
   "execution_count": 5,
   "id": "969bf26b",
   "metadata": {},
   "outputs": [
    {
     "name": "stdout",
     "output_type": "stream",
     "text": [
      "<class 'pandas.core.frame.DataFrame'>\n",
      "RangeIndex: 6497 entries, 0 to 6496\n",
      "Data columns (total 13 columns):\n",
      " #   Column                Non-Null Count  Dtype  \n",
      "---  ------                --------------  -----  \n",
      " 0   type                  6497 non-null   object \n",
      " 1   fixed acidity         6487 non-null   float64\n",
      " 2   volatile acidity      6489 non-null   float64\n",
      " 3   citric acid           6494 non-null   float64\n",
      " 4   residual sugar        6495 non-null   float64\n",
      " 5   chlorides             6495 non-null   float64\n",
      " 6   free sulfur dioxide   6497 non-null   float64\n",
      " 7   total sulfur dioxide  6497 non-null   float64\n",
      " 8   density               6497 non-null   float64\n",
      " 9   pH                    6488 non-null   float64\n",
      " 10  sulphates             6493 non-null   float64\n",
      " 11  alcohol               6497 non-null   float64\n",
      " 12  quality               6497 non-null   int64  \n",
      "dtypes: float64(11), int64(1), object(1)\n",
      "memory usage: 660.0+ KB\n"
     ]
    }
   ],
   "source": [
    "data.info()"
   ]
  },
  {
   "cell_type": "code",
   "execution_count": 6,
   "id": "1ca66e20",
   "metadata": {},
   "outputs": [
    {
     "data": {
      "text/plain": [
       "white    4898\n",
       "red      1599\n",
       "Name: type, dtype: int64"
      ]
     },
     "execution_count": 6,
     "metadata": {},
     "output_type": "execute_result"
    }
   ],
   "source": [
    "data['type'].value_counts()"
   ]
  },
  {
   "cell_type": "markdown",
   "id": "f62f20e2",
   "metadata": {},
   "source": [
    "Видно, что в датасете одна категорийная переменная - тип вина 'type' (белое/красное). \n",
    "Её значения потом можно закодировать через one-hot-encoding.\n",
    "\n",
    "Есть пропуски в некоторых признаках, выведем их список.\n",
    "Эти пропуски потом можно либо просто удалить, либо заполнить \n",
    "(переменные - непрерывные, поэтому можно заполнить средними значениями)."
   ]
  },
  {
   "cell_type": "code",
   "execution_count": 7,
   "id": "ec81ac0a",
   "metadata": {},
   "outputs": [
    {
     "data": {
      "text/plain": [
       "fixed acidity       10\n",
       "pH                   9\n",
       "volatile acidity     8\n",
       "sulphates            4\n",
       "citric acid          3\n",
       "residual sugar       2\n",
       "chlorides            2\n",
       "dtype: int64"
      ]
     },
     "execution_count": 7,
     "metadata": {},
     "output_type": "execute_result"
    }
   ],
   "source": [
    "columns_with_NA = data.columns[data.isnull().any()].tolist()\n",
    "pd.isnull(data[columns_with_NA]).sum().sort_values(ascending=False)"
   ]
  },
  {
   "cell_type": "markdown",
   "id": "3cb0b4d8",
   "metadata": {},
   "source": [
    "Построим тепловую карту взаимной корреляции всех признаков (включая целевую переменную quality)."
   ]
  },
  {
   "cell_type": "code",
   "execution_count": 8,
   "id": "2f9404b7",
   "metadata": {},
   "outputs": [
    {
     "data": {
      "text/plain": [
       "<AxesSubplot:>"
      ]
     },
     "execution_count": 8,
     "metadata": {},
     "output_type": "execute_result"
    },
    {
     "data": {
      "image/png": "[encoded data removed]",
      "text/plain": [
       "<Figure size 720x576 with 2 Axes>"
      ]
     },
     "metadata": {
      "needs_background": "light"
     },
     "output_type": "display_data"
    }
   ],
   "source": [
    "plt.figure(figsize = (10, 8))\n",
    "sns.heatmap(data.corr())"
   ]
  },
  {
   "cell_type": "markdown",
   "id": "8f2d2fa3",
   "metadata": {},
   "source": [
    "Самая выраженная корреляция с целевой переменной - у признака 'alcohol'.\n",
    "Сильно выраженная взаимная корреляция - у признаков 'free sulfur dioxide' и 'total sulfur dioxide', что логично.\n",
    "Тем не менее, попробуем не удалять никакие признаки и посмотреть, что получится с качеством предсказаний.\n",
    "\n",
    "Теперь посмотрим, есть ли выбросы. Для визуальной оценки выбросов воспользуемся боксплот-диаграммами по каждому из входящих признаков, кроме категориальной переменной type."
   ]
  },
  {
   "cell_type": "code",
   "execution_count": 9,
   "id": "e4c20bed",
   "metadata": {},
   "outputs": [
    {
     "data": {
      "text/plain": [
       "<Figure size 1440x360 with 0 Axes>"
      ]
     },
     "metadata": {},
     "output_type": "display_data"
    },
    {
     "data": {
      "image/png": "[encoded data removed]",
      "text/plain": [
       "<Figure size 432x288 with 1 Axes>"
      ]
     },
     "metadata": {
      "needs_background": "light"
     },
     "output_type": "display_data"
    },
    {
     "data": {
      "image/png": "[encoded data removed]",
      "text/plain": [
       "<Figure size 432x288 with 1 Axes>"
      ]
     },
     "metadata": {
      "needs_background": "light"
     },
     "output_type": "display_data"
    },
    {
     "data": {
      "image/png": "[encoded data removed]",
      "text/plain": [
       "<Figure size 432x288 with 1 Axes>"
      ]
     },
     "metadata": {
      "needs_background": "light"
     },
     "output_type": "display_data"
    },
    {
     "data": {
      "image/png": "[encoded data removed]",
      "text/plain": [
       "<Figure size 432x288 with 1 Axes>"
      ]
     },
     "metadata": {
      "needs_background": "light"
     },
     "output_type": "display_data"
    },
    {
     "data": {
      "image/png": "[encoded data removed]",
      "text/plain": [
       "<Figure size 432x288 with 1 Axes>"
      ]
     },
     "metadata": {
      "needs_background": "light"
     },
     "output_type": "display_data"
    },
    {
     "data": {
      "image/png": "[encoded data removed]",
      "text/plain": [
       "<Figure size 432x288 with 1 Axes>"
      ]
     },
     "metadata": {
      "needs_background": "light"
     },
     "output_type": "display_data"
    },
    {
     "data": {
      "image/png": "[encoded data removed]",
      "text/plain": [
       "<Figure size 432x288 with 1 Axes>"
      ]
     },
     "metadata": {
      "needs_background": "light"
     },
     "output_type": "display_data"
    },
    {
     "data": {
      "image/png": "[encoded data removed]",
      "text/plain": [
       "<Figure size 432x288 with 1 Axes>"
      ]
     },
     "metadata": {
      "needs_background": "light"
     },
     "output_type": "display_data"
    },
    {
     "data": {
      "image/png": "[encoded data removed]",
      "text/plain": [
       "<Figure size 432x288 with 1 Axes>"
      ]
     },
     "metadata": {
      "needs_background": "light"
     },
     "output_type": "display_data"
    },
    {
     "data": {
      "image/png": "[encoded data removed]",
      "text/plain": [
       "<Figure size 432x288 with 1 Axes>"
      ]
     },
     "metadata": {
      "needs_background": "light"
     },
     "output_type": "display_data"
    }
   ],
   "source": [
    "to_outliers = data[['fixed acidity', 'volatile acidity', 'citric acid', 'residual sugar', 'chlorides', \n",
    "                            'free sulfur dioxide', 'total sulfur dioxide', 'density',\n",
    "                            'pH', 'sulphates']]\n",
    "\n",
    "plt.figure(figsize = (20,5))\n",
    "for i in to_outliers:\n",
    "    data[[i]].plot(kind = 'box', grid = True)"
   ]
  },
  {
   "cell_type": "code",
   "execution_count": 10,
   "id": "bd3b34f2",
   "metadata": {},
   "outputs": [
    {
     "name": "stdout",
     "output_type": "stream",
     "text": [
      "       fixed acidity\n",
      "6.45               1\n",
      "3.90               1\n",
      "14.30              1\n",
      "13.50              1\n",
      "12.10              1\n",
      "...              ...\n",
      "6.90             279\n",
      "7.00             282\n",
      "6.40             305\n",
      "6.60             326\n",
      "6.80             354\n",
      "\n",
      "[106 rows x 1 columns]\n",
      "       volatile acidity\n",
      "1.025                 1\n",
      "0.135                 1\n",
      "0.930                 1\n",
      "0.825                 1\n",
      "0.355                 1\n",
      "...                 ...\n",
      "0.220               235\n",
      "0.250               238\n",
      "0.260               255\n",
      "0.240               265\n",
      "0.280               286\n",
      "\n",
      "[187 rows x 1 columns]\n",
      "      citric acid\n",
      "0.86            1\n",
      "0.88            1\n",
      "1.23            1\n",
      "0.75            1\n",
      "0.99            1\n",
      "...           ...\n",
      "0.26          257\n",
      "0.49          283\n",
      "0.32          289\n",
      "0.28          301\n",
      "0.30          337\n",
      "\n",
      "[89 rows x 1 columns]\n",
      "       residual sugar\n",
      "2.55                1\n",
      "3.15                1\n",
      "9.05                1\n",
      "7.95                1\n",
      "11.45               1\n",
      "...               ...\n",
      "1.20              195\n",
      "1.40              219\n",
      "1.60              223\n",
      "1.80              228\n",
      "2.00              235\n",
      "\n",
      "[316 rows x 1 columns]\n",
      "       chlorides\n",
      "0.213          1\n",
      "0.156          1\n",
      "0.271          1\n",
      "0.611          1\n",
      "0.153          1\n",
      "...          ...\n",
      "0.048        182\n",
      "0.046        185\n",
      "0.042        187\n",
      "0.036        200\n",
      "0.044        206\n",
      "\n",
      "[214 rows x 1 columns]\n",
      "       free sulfur dioxide\n",
      "95.0                     1\n",
      "15.5                     1\n",
      "82.5                     1\n",
      "112.0                    1\n",
      "38.5                     1\n",
      "...                    ...\n",
      "31.0                   152\n",
      "15.0                   157\n",
      "26.0                   161\n",
      "6.0                    170\n",
      "29.0                   183\n",
      "\n",
      "[135 rows x 1 columns]\n",
      "       total sulfur dioxide\n",
      "219.5                     1\n",
      "115.5                     1\n",
      "246.0                     1\n",
      "217.5                     1\n",
      "344.0                     1\n",
      "...                     ...\n",
      "114.0                    56\n",
      "117.0                    57\n",
      "122.0                    57\n",
      "113.0                    65\n",
      "111.0                    72\n",
      "\n",
      "[276 rows x 1 columns]\n",
      "         density\n",
      "0.99589        1\n",
      "0.99205        1\n",
      "0.99837        1\n",
      "0.99079        1\n",
      "0.99317        1\n",
      "...          ...\n",
      "0.99280       63\n",
      "0.99200       64\n",
      "0.99800       64\n",
      "0.99720       69\n",
      "0.99760       69\n",
      "\n",
      "[998 rows x 1 columns]\n",
      "       pH\n",
      "3.85    1\n",
      "2.82    1\n",
      "2.72    1\n",
      "3.82    1\n",
      "2.77    1\n",
      "...   ...\n",
      "3.19  170\n",
      "3.20  176\n",
      "3.22  185\n",
      "3.14  193\n",
      "3.16  200\n",
      "\n",
      "[108 rows x 1 columns]\n",
      "      sulphates\n",
      "2.00          1\n",
      "1.62          1\n",
      "1.98          1\n",
      "1.59          1\n",
      "1.12          1\n",
      "...         ...\n",
      "0.38        214\n",
      "0.44        232\n",
      "0.54        234\n",
      "0.46        243\n",
      "0.50        275\n",
      "\n",
      "[111 rows x 1 columns]\n"
     ]
    }
   ],
   "source": [
    "# Дополнительно для оценки списка возможных выбросов выведем по каждому признаку \n",
    "# подсчет уникальных значений с сортировкой по возрастанию,\n",
    "# что также позволит увидеть \"единичные\" и нетипичные отклонения.\n",
    "for i in to_outliers:\n",
    "    print(data[i].value_counts(ascending=True).to_frame())"
   ]
  },
  {
   "cell_type": "markdown",
   "id": "17f2160d",
   "metadata": {},
   "source": [
    "По боксплотам, описанию данных (data.describe) и выводу списка отсортированных значений можно предположить, \n",
    "что есть выбросы в признаках:\n",
    "        1) residual sugar (значения>40);\n",
    "        2) free sulfur dioxide (значения>200);\n",
    "        3) total sulfur dioxide (значения>400).\n",
    "    \n",
    "На следующем этапе удалим эти выбросы, затем сделаем OHE для переменной 'type' и заполним пропуски средним значением.\n",
    "\n",
    "Также, учитывая, что многие входящие признаки разного масштаба, то неплохо было сделать их стандартизацию StandardScaler'ом перед обучением."
   ]
  },
  {
   "cell_type": "markdown",
   "id": "7241f5a1",
   "metadata": {},
   "source": [
    "Этап 3. Data Preparation."
   ]
  },
  {
   "cell_type": "code",
   "execution_count": 11,
   "id": "1f4833e7",
   "metadata": {},
   "outputs": [
    {
     "name": "stdout",
     "output_type": "stream",
     "text": [
      "<class 'pandas.core.frame.DataFrame'>\n",
      "Int64Index: 6493 entries, 0 to 6496\n",
      "Data columns (total 13 columns):\n",
      " #   Column                Non-Null Count  Dtype  \n",
      "---  ------                --------------  -----  \n",
      " 0   type                  6493 non-null   object \n",
      " 1   fixed acidity         6483 non-null   float64\n",
      " 2   volatile acidity      6485 non-null   float64\n",
      " 3   citric acid           6490 non-null   float64\n",
      " 4   residual sugar        6493 non-null   float64\n",
      " 5   chlorides             6491 non-null   float64\n",
      " 6   free sulfur dioxide   6493 non-null   float64\n",
      " 7   total sulfur dioxide  6493 non-null   float64\n",
      " 8   density               6493 non-null   float64\n",
      " 9   pH                    6484 non-null   float64\n",
      " 10  sulphates             6489 non-null   float64\n",
      " 11  alcohol               6493 non-null   float64\n",
      " 12  quality               6493 non-null   int64  \n",
      "dtypes: float64(11), int64(1), object(1)\n",
      "memory usage: 710.2+ KB\n"
     ]
    }
   ],
   "source": [
    "data_corrected = data.loc[data['residual sugar'] < 40]\n",
    "data_corrected = data_corrected.loc[data_corrected['free sulfur dioxide'] < 200]\n",
    "data_corrected = data_corrected.loc[data_corrected['total sulfur dioxide'] < 400]\n",
    "data_corrected.reindex()\n",
    "data_corrected.info()"
   ]
  },
  {
   "cell_type": "code",
   "execution_count": 12,
   "id": "d677dd14",
   "metadata": {},
   "outputs": [
    {
     "name": "stdout",
     "output_type": "stream",
     "text": [
      "<class 'pandas.core.frame.DataFrame'>\n",
      "Int64Index: 6493 entries, 0 to 6496\n",
      "Data columns (total 13 columns):\n",
      " #   Column                Non-Null Count  Dtype  \n",
      "---  ------                --------------  -----  \n",
      " 0   type                  6493 non-null   object \n",
      " 1   fixed acidity         6493 non-null   float64\n",
      " 2   volatile acidity      6493 non-null   float64\n",
      " 3   citric acid           6493 non-null   float64\n",
      " 4   residual sugar        6493 non-null   float64\n",
      " 5   chlorides             6493 non-null   float64\n",
      " 6   free sulfur dioxide   6493 non-null   float64\n",
      " 7   total sulfur dioxide  6493 non-null   float64\n",
      " 8   density               6493 non-null   float64\n",
      " 9   pH                    6493 non-null   float64\n",
      " 10  sulphates             6493 non-null   float64\n",
      " 11  alcohol               6493 non-null   float64\n",
      " 12  quality               6493 non-null   int64  \n",
      "dtypes: float64(11), int64(1), object(1)\n",
      "memory usage: 710.2+ KB\n"
     ]
    }
   ],
   "source": [
    "# Для заполнения пропусков воспользуемся классом SimpleImputer библиотеки scikit-learn\n",
    "from sklearn.impute import SimpleImputer\n",
    "\n",
    "# возьмем только те признаки, в которых есть пропуски\n",
    "fillna_mean = ['fixed acidity', 'pH', 'volatile acidity', 'sulphates', \n",
    "                         'citric acid', 'residual sugar', 'chlorides']\n",
    "\n",
    "for i in fillna_mean:\n",
    "    imp = SimpleImputer(missing_values = np.nan, strategy='mean') # будем заполнять пропуски средним значением по колонке\n",
    "    data_corrected[i] = imp.fit_transform(data_corrected[[i]])[:, 0]  # тренируем и заполняем\n",
    "    \n",
    "data_corrected.info()"
   ]
  },
  {
   "cell_type": "code",
   "execution_count": 13,
   "id": "7b3972c2",
   "metadata": {},
   "outputs": [],
   "source": [
    "# сделаем one-hot-encoding для переменной type\n",
    "data_corrected = pd.get_dummies(data_corrected, columns=['type'])"
   ]
  },
  {
   "cell_type": "code",
   "execution_count": 14,
   "id": "1f1b77f3",
   "metadata": {},
   "outputs": [
    {
     "data": {
      "text/plain": [
       "0    4894\n",
       "1    1599\n",
       "Name: type_red, dtype: int64"
      ]
     },
     "execution_count": 14,
     "metadata": {},
     "output_type": "execute_result"
    }
   ],
   "source": [
    "# проверка корректности OHE\n",
    "data_corrected['type_red'].value_counts()"
   ]
  },
  {
   "cell_type": "code",
   "execution_count": 15,
   "id": "6e2f5862",
   "metadata": {},
   "outputs": [
    {
     "data": {
      "text/html": [
       "<div>\n",
       "<style scoped>\n",
       "    .dataframe tbody tr th:only-of-type {\n",
       "        vertical-align: middle;\n",
       "    }\n",
       "\n",
       "    .dataframe tbody tr th {\n",
       "        vertical-align: top;\n",
       "    }\n",
       "\n",
       "    .dataframe thead th {\n",
       "        text-align: right;\n",
       "    }\n",
       "</style>\n",
       "<table border=\"1\" class=\"dataframe\">\n",
       "  <thead>\n",
       "    <tr style=\"text-align: right;\">\n",
       "      <th></th>\n",
       "      <th>fixed acidity</th>\n",
       "      <th>volatile acidity</th>\n",
       "      <th>citric acid</th>\n",
       "      <th>residual sugar</th>\n",
       "      <th>chlorides</th>\n",
       "      <th>free sulfur dioxide</th>\n",
       "      <th>total sulfur dioxide</th>\n",
       "      <th>density</th>\n",
       "      <th>pH</th>\n",
       "      <th>sulphates</th>\n",
       "      <th>alcohol</th>\n",
       "      <th>quality</th>\n",
       "      <th>type_red</th>\n",
       "      <th>type_white</th>\n",
       "    </tr>\n",
       "  </thead>\n",
       "  <tbody>\n",
       "    <tr>\n",
       "      <th>count</th>\n",
       "      <td>6493.000000</td>\n",
       "      <td>6493.000000</td>\n",
       "      <td>6493.000000</td>\n",
       "      <td>6493.000000</td>\n",
       "      <td>6493.000000</td>\n",
       "      <td>6493.000000</td>\n",
       "      <td>6493.000000</td>\n",
       "      <td>6493.000000</td>\n",
       "      <td>6493.000000</td>\n",
       "      <td>6493.000000</td>\n",
       "      <td>6493.000000</td>\n",
       "      <td>6493.000000</td>\n",
       "      <td>6493.000000</td>\n",
       "      <td>6493.000000</td>\n",
       "    </tr>\n",
       "    <tr>\n",
       "      <th>mean</th>\n",
       "      <td>7.216790</td>\n",
       "      <td>0.339669</td>\n",
       "      <td>0.318683</td>\n",
       "      <td>5.435423</td>\n",
       "      <td>0.056044</td>\n",
       "      <td>30.480440</td>\n",
       "      <td>115.672493</td>\n",
       "      <td>0.994690</td>\n",
       "      <td>3.218310</td>\n",
       "      <td>0.531165</td>\n",
       "      <td>10.491934</td>\n",
       "      <td>5.818574</td>\n",
       "      <td>0.246265</td>\n",
       "      <td>0.753735</td>\n",
       "    </tr>\n",
       "    <tr>\n",
       "      <th>std</th>\n",
       "      <td>1.295993</td>\n",
       "      <td>0.164374</td>\n",
       "      <td>0.145231</td>\n",
       "      <td>4.699418</td>\n",
       "      <td>0.035040</td>\n",
       "      <td>17.451524</td>\n",
       "      <td>56.379949</td>\n",
       "      <td>0.002949</td>\n",
       "      <td>0.160629</td>\n",
       "      <td>0.148791</td>\n",
       "      <td>1.192819</td>\n",
       "      <td>0.872695</td>\n",
       "      <td>0.430868</td>\n",
       "      <td>0.430868</td>\n",
       "    </tr>\n",
       "    <tr>\n",
       "      <th>min</th>\n",
       "      <td>3.800000</td>\n",
       "      <td>0.080000</td>\n",
       "      <td>0.000000</td>\n",
       "      <td>0.600000</td>\n",
       "      <td>0.009000</td>\n",
       "      <td>1.000000</td>\n",
       "      <td>6.000000</td>\n",
       "      <td>0.987110</td>\n",
       "      <td>2.720000</td>\n",
       "      <td>0.220000</td>\n",
       "      <td>8.000000</td>\n",
       "      <td>3.000000</td>\n",
       "      <td>0.000000</td>\n",
       "      <td>0.000000</td>\n",
       "    </tr>\n",
       "    <tr>\n",
       "      <th>25%</th>\n",
       "      <td>6.400000</td>\n",
       "      <td>0.230000</td>\n",
       "      <td>0.250000</td>\n",
       "      <td>1.800000</td>\n",
       "      <td>0.038000</td>\n",
       "      <td>17.000000</td>\n",
       "      <td>77.000000</td>\n",
       "      <td>0.992340</td>\n",
       "      <td>3.110000</td>\n",
       "      <td>0.430000</td>\n",
       "      <td>9.500000</td>\n",
       "      <td>5.000000</td>\n",
       "      <td>0.000000</td>\n",
       "      <td>1.000000</td>\n",
       "    </tr>\n",
       "    <tr>\n",
       "      <th>50%</th>\n",
       "      <td>7.000000</td>\n",
       "      <td>0.290000</td>\n",
       "      <td>0.310000</td>\n",
       "      <td>3.000000</td>\n",
       "      <td>0.047000</td>\n",
       "      <td>29.000000</td>\n",
       "      <td>118.000000</td>\n",
       "      <td>0.994890</td>\n",
       "      <td>3.210000</td>\n",
       "      <td>0.510000</td>\n",
       "      <td>10.300000</td>\n",
       "      <td>6.000000</td>\n",
       "      <td>0.000000</td>\n",
       "      <td>1.000000</td>\n",
       "    </tr>\n",
       "    <tr>\n",
       "      <th>75%</th>\n",
       "      <td>7.700000</td>\n",
       "      <td>0.400000</td>\n",
       "      <td>0.390000</td>\n",
       "      <td>8.100000</td>\n",
       "      <td>0.065000</td>\n",
       "      <td>41.000000</td>\n",
       "      <td>156.000000</td>\n",
       "      <td>0.996990</td>\n",
       "      <td>3.320000</td>\n",
       "      <td>0.600000</td>\n",
       "      <td>11.300000</td>\n",
       "      <td>6.000000</td>\n",
       "      <td>0.000000</td>\n",
       "      <td>1.000000</td>\n",
       "    </tr>\n",
       "    <tr>\n",
       "      <th>max</th>\n",
       "      <td>15.900000</td>\n",
       "      <td>1.580000</td>\n",
       "      <td>1.660000</td>\n",
       "      <td>31.600000</td>\n",
       "      <td>0.611000</td>\n",
       "      <td>146.500000</td>\n",
       "      <td>366.500000</td>\n",
       "      <td>1.010300</td>\n",
       "      <td>4.010000</td>\n",
       "      <td>2.000000</td>\n",
       "      <td>14.900000</td>\n",
       "      <td>9.000000</td>\n",
       "      <td>1.000000</td>\n",
       "      <td>1.000000</td>\n",
       "    </tr>\n",
       "  </tbody>\n",
       "</table>\n",
       "</div>"
      ],
      "text/plain": [
       "       fixed acidity  volatile acidity  citric acid  residual sugar  \\\n",
       "count    6493.000000       6493.000000  6493.000000     6493.000000   \n",
       "mean        7.216790          0.339669     0.318683        5.435423   \n",
       "std         1.295993          0.164374     0.145231        4.699418   \n",
       "min         3.800000          0.080000     0.000000        0.600000   \n",
       "25%         6.400000          0.230000     0.250000        1.800000   \n",
       "50%         7.000000          0.290000     0.310000        3.000000   \n",
       "75%         7.700000          0.400000     0.390000        8.100000   \n",
       "max        15.900000          1.580000     1.660000       31.600000   \n",
       "\n",
       "         chlorides  free sulfur dioxide  total sulfur dioxide      density  \\\n",
       "count  6493.000000          6493.000000           6493.000000  6493.000000   \n",
       "mean      0.056044            30.480440            115.672493     0.994690   \n",
       "std       0.035040            17.451524             56.379949     0.002949   \n",
       "min       0.009000             1.000000              6.000000     0.987110   \n",
       "25%       0.038000            17.000000             77.000000     0.992340   \n",
       "50%       0.047000            29.000000            118.000000     0.994890   \n",
       "75%       0.065000            41.000000            156.000000     0.996990   \n",
       "max       0.611000           146.500000            366.500000     1.010300   \n",
       "\n",
       "                pH    sulphates      alcohol      quality     type_red  \\\n",
       "count  6493.000000  6493.000000  6493.000000  6493.000000  6493.000000   \n",
       "mean      3.218310     0.531165    10.491934     5.818574     0.246265   \n",
       "std       0.160629     0.148791     1.192819     0.872695     0.430868   \n",
       "min       2.720000     0.220000     8.000000     3.000000     0.000000   \n",
       "25%       3.110000     0.430000     9.500000     5.000000     0.000000   \n",
       "50%       3.210000     0.510000    10.300000     6.000000     0.000000   \n",
       "75%       3.320000     0.600000    11.300000     6.000000     0.000000   \n",
       "max       4.010000     2.000000    14.900000     9.000000     1.000000   \n",
       "\n",
       "        type_white  \n",
       "count  6493.000000  \n",
       "mean      0.753735  \n",
       "std       0.430868  \n",
       "min       0.000000  \n",
       "25%       1.000000  \n",
       "50%       1.000000  \n",
       "75%       1.000000  \n",
       "max       1.000000  "
      ]
     },
     "execution_count": 15,
     "metadata": {},
     "output_type": "execute_result"
    }
   ],
   "source": [
    "data_corrected.describe()"
   ]
  },
  {
   "cell_type": "code",
   "execution_count": 17,
   "id": "5936c576",
   "metadata": {},
   "outputs": [],
   "source": [
    "from sklearn.preprocessing import StandardScaler\n",
    "\n",
    "# зададим список признаков, подлежащих стандартизации. Целевую переменную не трогаем))\n",
    "cols_to_norm = data_corrected[['fixed acidity', 'residual sugar', 'free sulfur dioxide', 'total sulfur dioxide', \n",
    "                               'pH', 'alcohol']]"
   ]
  },
  {
   "cell_type": "code",
   "execution_count": 18,
   "id": "d0f1932e",
   "metadata": {},
   "outputs": [],
   "source": [
    "# создадим и обучим скейлер\n",
    "scaler = StandardScaler()\n",
    "data_corrected[['fixed acidity', 'residual sugar', 'free sulfur dioxide', 'total sulfur dioxide', \n",
    "                'pH', 'alcohol']] = scaler.fit_transform(cols_to_norm)"
   ]
  },
  {
   "cell_type": "code",
   "execution_count": 20,
   "id": "50b74db1",
   "metadata": {},
   "outputs": [
    {
     "data": {
      "text/html": [
       "<div>\n",
       "<style scoped>\n",
       "    .dataframe tbody tr th:only-of-type {\n",
       "        vertical-align: middle;\n",
       "    }\n",
       "\n",
       "    .dataframe tbody tr th {\n",
       "        vertical-align: top;\n",
       "    }\n",
       "\n",
       "    .dataframe thead th {\n",
       "        text-align: right;\n",
       "    }\n",
       "</style>\n",
       "<table border=\"1\" class=\"dataframe\">\n",
       "  <thead>\n",
       "    <tr style=\"text-align: right;\">\n",
       "      <th></th>\n",
       "      <th>fixed acidity</th>\n",
       "      <th>volatile acidity</th>\n",
       "      <th>citric acid</th>\n",
       "      <th>residual sugar</th>\n",
       "      <th>chlorides</th>\n",
       "      <th>free sulfur dioxide</th>\n",
       "      <th>total sulfur dioxide</th>\n",
       "      <th>density</th>\n",
       "      <th>pH</th>\n",
       "      <th>sulphates</th>\n",
       "      <th>alcohol</th>\n",
       "      <th>quality</th>\n",
       "      <th>type_red</th>\n",
       "      <th>type_white</th>\n",
       "    </tr>\n",
       "  </thead>\n",
       "  <tbody>\n",
       "    <tr>\n",
       "      <th>count</th>\n",
       "      <td>6.493000e+03</td>\n",
       "      <td>6493.000000</td>\n",
       "      <td>6493.000000</td>\n",
       "      <td>6.493000e+03</td>\n",
       "      <td>6493.000000</td>\n",
       "      <td>6.493000e+03</td>\n",
       "      <td>6.493000e+03</td>\n",
       "      <td>6493.000000</td>\n",
       "      <td>6.493000e+03</td>\n",
       "      <td>6493.000000</td>\n",
       "      <td>6.493000e+03</td>\n",
       "      <td>6493.000000</td>\n",
       "      <td>6493.000000</td>\n",
       "      <td>6493.000000</td>\n",
       "    </tr>\n",
       "    <tr>\n",
       "      <th>mean</th>\n",
       "      <td>2.049629e-15</td>\n",
       "      <td>0.339669</td>\n",
       "      <td>0.318683</td>\n",
       "      <td>-1.325274e-15</td>\n",
       "      <td>0.056044</td>\n",
       "      <td>2.028769e-16</td>\n",
       "      <td>-2.184641e-15</td>\n",
       "      <td>0.994690</td>\n",
       "      <td>-1.281211e-15</td>\n",
       "      <td>0.531165</td>\n",
       "      <td>1.880950e-16</td>\n",
       "      <td>5.818574</td>\n",
       "      <td>0.246265</td>\n",
       "      <td>0.753735</td>\n",
       "    </tr>\n",
       "    <tr>\n",
       "      <th>std</th>\n",
       "      <td>1.000077e+00</td>\n",
       "      <td>0.164374</td>\n",
       "      <td>0.145231</td>\n",
       "      <td>1.000077e+00</td>\n",
       "      <td>0.035040</td>\n",
       "      <td>1.000077e+00</td>\n",
       "      <td>1.000077e+00</td>\n",
       "      <td>0.002949</td>\n",
       "      <td>1.000077e+00</td>\n",
       "      <td>0.148791</td>\n",
       "      <td>1.000077e+00</td>\n",
       "      <td>0.872695</td>\n",
       "      <td>0.430868</td>\n",
       "      <td>0.430868</td>\n",
       "    </tr>\n",
       "    <tr>\n",
       "      <th>min</th>\n",
       "      <td>-2.636630e+00</td>\n",
       "      <td>0.080000</td>\n",
       "      <td>0.000000</td>\n",
       "      <td>-1.029020e+00</td>\n",
       "      <td>0.009000</td>\n",
       "      <td>-1.689406e+00</td>\n",
       "      <td>-1.945389e+00</td>\n",
       "      <td>0.987110</td>\n",
       "      <td>-3.102488e+00</td>\n",
       "      <td>0.220000</td>\n",
       "      <td>-2.089275e+00</td>\n",
       "      <td>3.000000</td>\n",
       "      <td>0.000000</td>\n",
       "      <td>0.000000</td>\n",
       "    </tr>\n",
       "    <tr>\n",
       "      <th>25%</th>\n",
       "      <td>-6.302913e-01</td>\n",
       "      <td>0.230000</td>\n",
       "      <td>0.250000</td>\n",
       "      <td>-7.736496e-01</td>\n",
       "      <td>0.038000</td>\n",
       "      <td>-7.725101e-01</td>\n",
       "      <td>-6.859792e-01</td>\n",
       "      <td>0.992340</td>\n",
       "      <td>-6.743387e-01</td>\n",
       "      <td>0.430000</td>\n",
       "      <td>-8.316527e-01</td>\n",
       "      <td>5.000000</td>\n",
       "      <td>0.000000</td>\n",
       "      <td>1.000000</td>\n",
       "    </tr>\n",
       "    <tr>\n",
       "      <th>50%</th>\n",
       "      <td>-1.672901e-01</td>\n",
       "      <td>0.290000</td>\n",
       "      <td>0.310000</td>\n",
       "      <td>-5.182792e-01</td>\n",
       "      <td>0.047000</td>\n",
       "      <td>-8.483812e-02</td>\n",
       "      <td>4.128570e-02</td>\n",
       "      <td>0.994890</td>\n",
       "      <td>-5.173630e-02</td>\n",
       "      <td>0.510000</td>\n",
       "      <td>-1.609207e-01</td>\n",
       "      <td>6.000000</td>\n",
       "      <td>0.000000</td>\n",
       "      <td>1.000000</td>\n",
       "    </tr>\n",
       "    <tr>\n",
       "      <th>75%</th>\n",
       "      <td>3.728780e-01</td>\n",
       "      <td>0.400000</td>\n",
       "      <td>0.390000</td>\n",
       "      <td>5.670452e-01</td>\n",
       "      <td>0.065000</td>\n",
       "      <td>6.028339e-01</td>\n",
       "      <td>7.153361e-01</td>\n",
       "      <td>0.996990</td>\n",
       "      <td>6.331263e-01</td>\n",
       "      <td>0.600000</td>\n",
       "      <td>6.774943e-01</td>\n",
       "      <td>6.000000</td>\n",
       "      <td>0.000000</td>\n",
       "      <td>1.000000</td>\n",
       "    </tr>\n",
       "    <tr>\n",
       "      <th>max</th>\n",
       "      <td>6.700561e+00</td>\n",
       "      <td>1.580000</td>\n",
       "      <td>1.660000</td>\n",
       "      <td>5.568050e+00</td>\n",
       "      <td>0.611000</td>\n",
       "      <td>6.648617e+00</td>\n",
       "      <td>4.449220e+00</td>\n",
       "      <td>1.010300</td>\n",
       "      <td>4.929083e+00</td>\n",
       "      <td>2.000000</td>\n",
       "      <td>3.695788e+00</td>\n",
       "      <td>9.000000</td>\n",
       "      <td>1.000000</td>\n",
       "      <td>1.000000</td>\n",
       "    </tr>\n",
       "  </tbody>\n",
       "</table>\n",
       "</div>"
      ],
      "text/plain": [
       "       fixed acidity  volatile acidity  citric acid  residual sugar  \\\n",
       "count   6.493000e+03       6493.000000  6493.000000    6.493000e+03   \n",
       "mean    2.049629e-15          0.339669     0.318683   -1.325274e-15   \n",
       "std     1.000077e+00          0.164374     0.145231    1.000077e+00   \n",
       "min    -2.636630e+00          0.080000     0.000000   -1.029020e+00   \n",
       "25%    -6.302913e-01          0.230000     0.250000   -7.736496e-01   \n",
       "50%    -1.672901e-01          0.290000     0.310000   -5.182792e-01   \n",
       "75%     3.728780e-01          0.400000     0.390000    5.670452e-01   \n",
       "max     6.700561e+00          1.580000     1.660000    5.568050e+00   \n",
       "\n",
       "         chlorides  free sulfur dioxide  total sulfur dioxide      density  \\\n",
       "count  6493.000000         6.493000e+03          6.493000e+03  6493.000000   \n",
       "mean      0.056044         2.028769e-16         -2.184641e-15     0.994690   \n",
       "std       0.035040         1.000077e+00          1.000077e+00     0.002949   \n",
       "min       0.009000        -1.689406e+00         -1.945389e+00     0.987110   \n",
       "25%       0.038000        -7.725101e-01         -6.859792e-01     0.992340   \n",
       "50%       0.047000        -8.483812e-02          4.128570e-02     0.994890   \n",
       "75%       0.065000         6.028339e-01          7.153361e-01     0.996990   \n",
       "max       0.611000         6.648617e+00          4.449220e+00     1.010300   \n",
       "\n",
       "                 pH    sulphates       alcohol      quality     type_red  \\\n",
       "count  6.493000e+03  6493.000000  6.493000e+03  6493.000000  6493.000000   \n",
       "mean  -1.281211e-15     0.531165  1.880950e-16     5.818574     0.246265   \n",
       "std    1.000077e+00     0.148791  1.000077e+00     0.872695     0.430868   \n",
       "min   -3.102488e+00     0.220000 -2.089275e+00     3.000000     0.000000   \n",
       "25%   -6.743387e-01     0.430000 -8.316527e-01     5.000000     0.000000   \n",
       "50%   -5.173630e-02     0.510000 -1.609207e-01     6.000000     0.000000   \n",
       "75%    6.331263e-01     0.600000  6.774943e-01     6.000000     0.000000   \n",
       "max    4.929083e+00     2.000000  3.695788e+00     9.000000     1.000000   \n",
       "\n",
       "        type_white  \n",
       "count  6493.000000  \n",
       "mean      0.753735  \n",
       "std       0.430868  \n",
       "min       0.000000  \n",
       "25%       1.000000  \n",
       "50%       1.000000  \n",
       "75%       1.000000  \n",
       "max       1.000000  "
      ]
     },
     "execution_count": 20,
     "metadata": {},
     "output_type": "execute_result"
    }
   ],
   "source": [
    "data_corrected.describe()"
   ]
  },
  {
   "cell_type": "markdown",
   "id": "5107ff50",
   "metadata": {},
   "source": [
    "Теперь всё готово для следующего этапа - непосредственно моделирования и обучения.\n",
    "\n",
    "Этап 4. Modeling."
   ]
  },
  {
   "cell_type": "code",
   "execution_count": 21,
   "id": "ed7cd9bf",
   "metadata": {},
   "outputs": [],
   "source": [
    "# загрузим библиотеку для разделения выборки на трейн и тест\n",
    "from sklearn.model_selection import train_test_split"
   ]
  },
  {
   "cell_type": "code",
   "execution_count": 22,
   "id": "85597773",
   "metadata": {},
   "outputs": [],
   "source": [
    "X = data_corrected[['fixed acidity', 'volatile acidity', 'citric acid', 'residual sugar', 'chlorides', \n",
    "                    'free sulfur dioxide', 'total sulfur dioxide', 'density',\n",
    "                    'pH', 'sulphates', 'alcohol', 'type_red', 'type_white']]\n",
    "\n",
    "y = data_corrected['quality']"
   ]
  },
  {
   "cell_type": "code",
   "execution_count": 26,
   "id": "bf17aa83",
   "metadata": {},
   "outputs": [],
   "source": [
    "X_train, X_test, y_train, y_test = train_test_split(X, y, test_size=0.3, random_state=42)"
   ]
  },
  {
   "cell_type": "code",
   "execution_count": 27,
   "id": "841dc0ff",
   "metadata": {},
   "outputs": [],
   "source": [
    "# Для решения задачи классификации используем модель логистической регрессии\n",
    "from sklearn.linear_model import LogisticRegression"
   ]
  },
  {
   "cell_type": "code",
   "execution_count": 36,
   "id": "6bf95065",
   "metadata": {},
   "outputs": [],
   "source": [
    "# создаем модель\n",
    "model = LogisticRegression(max_iter=500)"
   ]
  },
  {
   "cell_type": "code",
   "execution_count": 37,
   "id": "e39c2ba7",
   "metadata": {},
   "outputs": [
    {
     "data": {
      "text/plain": [
       "LogisticRegression(max_iter=500)"
      ]
     },
     "execution_count": 37,
     "metadata": {},
     "output_type": "execute_result"
    }
   ],
   "source": [
    "# обучаем на трейн-выборке\n",
    "model.fit(X_train, y_train)"
   ]
  },
  {
   "cell_type": "code",
   "execution_count": 38,
   "id": "c402e681",
   "metadata": {},
   "outputs": [
    {
     "data": {
      "text/plain": [
       "0.5507150715071507"
      ]
     },
     "execution_count": 38,
     "metadata": {},
     "output_type": "execute_result"
    }
   ],
   "source": [
    "# оценим качество на трейн-выборке\n",
    "model.score(X_train, y_train)"
   ]
  },
  {
   "cell_type": "code",
   "execution_count": 39,
   "id": "015a1376",
   "metadata": {},
   "outputs": [
    {
     "data": {
      "text/plain": [
       "0.5400410677618069"
      ]
     },
     "execution_count": 39,
     "metadata": {},
     "output_type": "execute_result"
    }
   ],
   "source": [
    "# оценим качество на тест-выборке\n",
    "model.score(X_test, y_test)"
   ]
  },
  {
   "cell_type": "markdown",
   "id": "527fdde3",
   "metadata": {},
   "source": [
    "Как видим, с использованием логистической регрессии качество предсказаний получилось невысоким.\n",
    "Попробуем использовать другую модель. Полагаю, должна хорошо подойти модель дерева решений.\n",
    "Используем DecisionTreeClassifier, а не DecisionTreeRegressor, т.к. целевая переменная является дискретной."
   ]
  },
  {
   "cell_type": "code",
   "execution_count": 40,
   "id": "0a91f9f2",
   "metadata": {},
   "outputs": [],
   "source": [
    "from sklearn.tree import DecisionTreeClassifier"
   ]
  },
  {
   "cell_type": "code",
   "execution_count": 41,
   "id": "bdd37e1a",
   "metadata": {},
   "outputs": [
    {
     "data": {
      "text/plain": [
       "DecisionTreeClassifier()"
      ]
     },
     "execution_count": 41,
     "metadata": {},
     "output_type": "execute_result"
    }
   ],
   "source": [
    "np.random.seed(42) #зафиксируем seed для повторяемости результатов\n",
    "\n",
    "model_tree = DecisionTreeClassifier()\n",
    "model_tree.fit(X_train, y_train)"
   ]
  },
  {
   "cell_type": "code",
   "execution_count": 42,
   "id": "5bfff4d1",
   "metadata": {},
   "outputs": [
    {
     "data": {
      "text/plain": [
       "1.0"
      ]
     },
     "execution_count": 42,
     "metadata": {},
     "output_type": "execute_result"
    }
   ],
   "source": [
    "model_tree.score(X_train, y_train)"
   ]
  },
  {
   "cell_type": "markdown",
   "id": "8c5cda21",
   "metadata": {},
   "source": [
    "Качество на трейн-выборке предсказуемо идеальное."
   ]
  },
  {
   "cell_type": "code",
   "execution_count": 43,
   "id": "cbee594f",
   "metadata": {},
   "outputs": [
    {
     "data": {
      "text/plain": [
       "0.5913757700205339"
      ]
     },
     "execution_count": 43,
     "metadata": {},
     "output_type": "execute_result"
    }
   ],
   "source": [
    "model_tree.score(X_test, y_test)"
   ]
  },
  {
   "cell_type": "markdown",
   "id": "018153d2",
   "metadata": {},
   "source": [
    "Качество на тест-выборке выше, чем с использованием логистической регрессии, но всё равно невысокое.\n",
    "Попробуем \"случайный лес\"."
   ]
  },
  {
   "cell_type": "code",
   "execution_count": 46,
   "id": "69d0f7c5",
   "metadata": {},
   "outputs": [],
   "source": [
    "from sklearn.ensemble import RandomForestClassifier"
   ]
  },
  {
   "cell_type": "code",
   "execution_count": 47,
   "id": "68511425",
   "metadata": {},
   "outputs": [
    {
     "data": {
      "text/plain": [
       "RandomForestClassifier()"
      ]
     },
     "execution_count": 47,
     "metadata": {},
     "output_type": "execute_result"
    }
   ],
   "source": [
    "np.random.seed(42) #зафиксируем seed для повторяемости результатов\n",
    "\n",
    "model_RF = RandomForestClassifier()\n",
    "model_RF.fit(X_train, y_train)"
   ]
  },
  {
   "cell_type": "code",
   "execution_count": 49,
   "id": "e1742f80",
   "metadata": {},
   "outputs": [
    {
     "data": {
      "text/plain": [
       "0.6673511293634496"
      ]
     },
     "execution_count": 49,
     "metadata": {},
     "output_type": "execute_result"
    }
   ],
   "source": [
    "model_RF.score(X_test, y_test)"
   ]
  },
  {
   "cell_type": "markdown",
   "id": "bcf9d933",
   "metadata": {},
   "source": [
    "C RandomForest качество предсказаний заметно улучшилось.\n",
    "Напоследок попробуем ExtraTreesClassifier"
   ]
  },
  {
   "cell_type": "code",
   "execution_count": 50,
   "id": "8b61262a",
   "metadata": {},
   "outputs": [],
   "source": [
    "from sklearn.ensemble import ExtraTreesClassifier"
   ]
  },
  {
   "cell_type": "code",
   "execution_count": 51,
   "id": "9508e0db",
   "metadata": {},
   "outputs": [
    {
     "data": {
      "text/plain": [
       "ExtraTreesClassifier()"
      ]
     },
     "execution_count": 51,
     "metadata": {},
     "output_type": "execute_result"
    }
   ],
   "source": [
    "np.random.seed(42) #зафиксируем seed для повторяемости результатов\n",
    "\n",
    "model_ET = ExtraTreesClassifier()\n",
    "model_ET.fit(X_train, y_train)"
   ]
  },
  {
   "cell_type": "code",
   "execution_count": 52,
   "id": "a03b335d",
   "metadata": {},
   "outputs": [
    {
     "data": {
      "text/plain": [
       "0.6745379876796714"
      ]
     },
     "execution_count": 52,
     "metadata": {},
     "output_type": "execute_result"
    }
   ],
   "source": [
    "model_ET.score(X_test, y_test)"
   ]
  },
  {
   "cell_type": "markdown",
   "id": "c21c0de4",
   "metadata": {},
   "source": [
    "Качество ещё незначительно улучшилось, но в пределах погрешности. "
   ]
  },
  {
   "cell_type": "markdown",
   "id": "268c1daf",
   "metadata": {},
   "source": [
    "Этапы 5 и 6. Оценка решения и внедрение.\n",
    "\n",
    "Полагаю, что можно остановиться на достигнутом результате: использовать модель ExtraTreesClassifier \n",
    "(коэфф-т детерминации на тестовой выборке равен 0.6745379876796714).\n",
    "\n",
    "Вывод: путем подбора модели (обычным способом, без использования продвинутых алгоритмов перебора моделей/признаков) \n",
    "удалось добиться существенного прироста качества предсказаний - от 0.54 на простой логистической регресии \n",
    "до 0.67 на ExtraTreesClassifier.\n",
    "\n",
    "Также можно сделать вывод, что в повышении точности предсказаний огромную роль играет качественная предобработка данных."
   ]
  },
  {
   "cell_type": "code",
   "execution_count": null,
   "id": "55cfb144",
   "metadata": {},
   "outputs": [],
   "source": []
  }
 ],
 "metadata": {
  "kernelspec": {
   "display_name": "Python 3",
   "language": "python",
   "name": "python3"
  },
  "language_info": {
   "codemirror_mode": {
    "name": "ipython",
    "version": 3
   },
   "file_extension": ".py",
   "mimetype": "text/x-python",
   "name": "python",
   "nbconvert_exporter": "python",
   "pygments_lexer": "ipython3",
   "version": "3.8.8"
  }
 },
 "nbformat": 4,
 "nbformat_minor": 5
}
